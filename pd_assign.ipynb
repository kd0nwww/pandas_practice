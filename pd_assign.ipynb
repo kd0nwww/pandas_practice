{
 "cells": [
  {
   "cell_type": "markdown",
   "id": "1ac52aec-2747-4006-a0a9-b413e796243f",
   "metadata": {},
   "source": [
    "### Q1) Which type of data can be used while creating a series object in pandas?"
   ]
  },
  {
   "cell_type": "code",
   "execution_count": 2,
   "id": "7f8437d6-8748-4dca-b86c-923345373274",
   "metadata": {},
   "outputs": [
    {
     "name": "stdout",
     "output_type": "stream",
     "text": [
      "0     1\n",
      "1     4\n",
      "2     5\n",
      "3    66\n",
      "4    21\n",
      "dtype: int64\n"
     ]
    }
   ],
   "source": [
    "import pandas as pd\n",
    "# series of integers\n",
    "l = [1, 4, 5, 66, 21]\n",
    "ser = pd.Series(l)\n",
    "print(ser)"
   ]
  },
  {
   "cell_type": "code",
   "execution_count": 3,
   "id": "1cfa7eff-2818-4ea7-bcff-f92eab76daf5",
   "metadata": {},
   "outputs": [
    {
     "name": "stdout",
     "output_type": "stream",
     "text": [
      "0    ab\n",
      "1    cd\n",
      "2    ef\n",
      "3    gh\n",
      "4    hj\n",
      "dtype: object\n"
     ]
    }
   ],
   "source": [
    "# series of strings\n",
    "l = [\"ab\", \"cd\", \"ef\", \"gh\", \"hj\"]\n",
    "ser = pd.Series(l)\n",
    "print(ser)"
   ]
  },
  {
   "cell_type": "code",
   "execution_count": 4,
   "id": "45f3294f-f681-4130-8920-2944d80dff17",
   "metadata": {},
   "outputs": [
    {
     "name": "stdout",
     "output_type": "stream",
     "text": [
      "0     1.550\n",
      "1     4.900\n",
      "2     5.111\n",
      "3    66.000\n",
      "4    21.100\n",
      "dtype: float64\n"
     ]
    }
   ],
   "source": [
    "# series of float numbers\n",
    "l = [1.55, 4.9, 5.111, 66.0, 21.1]\n",
    "ser = pd.Series(l)\n",
    "print(ser)"
   ]
  },
  {
   "cell_type": "code",
   "execution_count": 5,
   "id": "517781dd-8f3f-4029-916b-049e4b9c7025",
   "metadata": {},
   "outputs": [
    {
     "name": "stdout",
     "output_type": "stream",
     "text": [
      "0     True\n",
      "1    False\n",
      "2     True\n",
      "3     True\n",
      "dtype: bool\n"
     ]
    }
   ],
   "source": [
    "# series of booleans\n",
    "l = [True, False, True, True]\n",
    "ser = pd.Series(l)\n",
    "print(ser)"
   ]
  },
  {
   "cell_type": "code",
   "execution_count": 6,
   "id": "6270cdea-278a-4199-bd66-2035f988e1d7",
   "metadata": {},
   "outputs": [
    {
     "name": "stdout",
     "output_type": "stream",
     "text": [
      "0    [5, 7]\n",
      "1    [4, 6]\n",
      "dtype: object\n"
     ]
    }
   ],
   "source": [
    "# series of lists\n",
    "l = [[5, 7], [4, 6]]\n",
    "ser = pd.Series(l)\n",
    "print(ser)"
   ]
  },
  {
   "cell_type": "code",
   "execution_count": 7,
   "id": "952c6b3e-fa7f-41c9-ab9f-951fc7208dbe",
   "metadata": {},
   "outputs": [
    {
     "name": "stdout",
     "output_type": "stream",
     "text": [
      "0    {'name': 'Kirill'}\n",
      "1           {'age': 18}\n",
      "dtype: object\n"
     ]
    }
   ],
   "source": [
    "# series of dictionaries\n",
    "l = [{\"name\": \"Kirill\"}, {\"age\": 18}]\n",
    "ser = pd.Series(l)\n",
    "print(ser)"
   ]
  },
  {
   "cell_type": "markdown",
   "id": "e740253d-f452-43fe-8cc9-64fca0c5bffb",
   "metadata": {},
   "source": [
    "We can infer that pd.Series() can work with any data type"
   ]
  },
  {
   "cell_type": "markdown",
   "id": "5f8ea261-6c94-4a03-a914-7d5bec98a584",
   "metadata": {},
   "source": [
    "### Q2)Create a series having the month's number as data and assign name as their index values? "
   ]
  },
  {
   "cell_type": "code",
   "execution_count": 8,
   "id": "545b1924-ea47-49b6-8810-baab6ee1cefe",
   "metadata": {},
   "outputs": [
    {
     "name": "stdout",
     "output_type": "stream",
     "text": [
      "January       1\n",
      "February      2\n",
      "March         3\n",
      "April         4\n",
      "May           5\n",
      "June          6\n",
      "July          7\n",
      "August        8\n",
      "September     9\n",
      "October      10\n",
      "November     11\n",
      "December     12\n",
      "dtype: int64\n"
     ]
    }
   ],
   "source": [
    "import pandas as pd\n",
    "month_names = [\"January\", \"February\", \"March\", \"April\", \"May\", \"June\", \"July\", \"August\", \"September\", \"October\", \"November\", \"December\"]\n",
    "numeration = [1, 2, 3, 4, 5, 6, 7, 8, 9, 10, 11, 12]\n",
    "ser = pd.Series(data=numeration, index=month_names)\n",
    "print(ser)"
   ]
  },
  {
   "cell_type": "markdown",
   "id": "fc475fbf-4db3-4838-a331-3949d24b8a41",
   "metadata": {},
   "source": [
    "### Q3)Write a program to create a series object using the dictionary which store the number of students in fresh batch groups ( MatMIE, Mat DAIS, COMIE, COMEC)?"
   ]
  },
  {
   "cell_type": "code",
   "execution_count": 10,
   "id": "ec6ab9b3-58e1-4c3b-89c4-0d24d4459c9d",
   "metadata": {},
   "outputs": [
    {
     "name": "stdout",
     "output_type": "stream",
     "text": [
      "MatMIE     24\n",
      "MatDAIS    21\n",
      "COMIE      18\n",
      "COMEC      27\n",
      "dtype: int64\n"
     ]
    }
   ],
   "source": [
    "import pandas as pd\n",
    "data = {\"MatMIE\": 24,\n",
    "       \"MatDAIS\": 21,\n",
    "       \"COMIE\": 18,\n",
    "       \"COMEC\": 27}\n",
    "ser = pd.Series(index=data.keys(), data=data.values())\n",
    "print(ser)"
   ]
  },
  {
   "cell_type": "markdown",
   "id": "662a8363-9ae7-4d54-b811-188912aa09e4",
   "metadata": {},
   "source": [
    "### Q4)Write a Pandas program to create and display a DataFrame from a specified dictionary data which has the index labels."
   ]
  },
  {
   "cell_type": "code",
   "execution_count": 11,
   "id": "33884d15-73d7-49c0-ad32-967a6b81c559",
   "metadata": {},
   "outputs": [
    {
     "name": "stdout",
     "output_type": "stream",
     "text": [
      "        name  score  attempts qualify\n",
      "a  Anastasia   12.5         1     yes\n",
      "b       Dima    9.0         3      no\n",
      "c  Katherine   16.5         2     yes\n",
      "d      James    NaN         3      no\n",
      "e      Emily    9.0         2      no\n",
      "f    Michael   20.0         3     yes\n",
      "g    Matthew   14.5         1     yes\n",
      "h      Laura    NaN         1      no\n",
      "i      Kevin    8.0         2      no\n",
      "j      Jonas   19.0         1     yes\n"
     ]
    }
   ],
   "source": [
    "import pandas as pd\n",
    "import numpy as np\n",
    "\n",
    "exam_data = {'name': ['Anastasia', 'Dima', 'Katherine', 'James', 'Emily', 'Michael', 'Matthew', 'Laura', 'Kevin', 'Jonas'],\n",
    "'score': [12.5, 9, 16.5, np.nan, 9, 20, 14.5, np.nan, 8, 19],\n",
    "'attempts': [1, 3, 2, 3, 2, 3, 1, 1, 2, 1],\n",
    "'qualify': ['yes', 'no', 'yes', 'no', 'no', 'yes', 'yes', 'no', 'no', 'yes']}\n",
    "labels = ['a', 'b', 'c', 'd', 'e', 'f', 'g', 'h', 'i', 'j']\n",
    "\n",
    "datafr = pd.DataFrame(data=exam_data, index=labels)\n",
    "print(datafr)"
   ]
  },
  {
   "cell_type": "markdown",
   "id": "839cdbe8-6e48-4147-aaee-4bf63429157a",
   "metadata": {},
   "source": [
    "### Q5)Write a Pandas program to select the rows where the number of attempts in the examination is greater than 2."
   ]
  },
  {
   "cell_type": "code",
   "execution_count": 13,
   "id": "1aae7299-b3d0-4bd8-afdc-e9eece177181",
   "metadata": {},
   "outputs": [
    {
     "data": {
      "text/html": [
       "<div>\n",
       "<style scoped>\n",
       "    .dataframe tbody tr th:only-of-type {\n",
       "        vertical-align: middle;\n",
       "    }\n",
       "\n",
       "    .dataframe tbody tr th {\n",
       "        vertical-align: top;\n",
       "    }\n",
       "\n",
       "    .dataframe thead th {\n",
       "        text-align: right;\n",
       "    }\n",
       "</style>\n",
       "<table border=\"1\" class=\"dataframe\">\n",
       "  <thead>\n",
       "    <tr style=\"text-align: right;\">\n",
       "      <th></th>\n",
       "      <th>name</th>\n",
       "      <th>score</th>\n",
       "      <th>attempts</th>\n",
       "      <th>qualify</th>\n",
       "    </tr>\n",
       "  </thead>\n",
       "  <tbody>\n",
       "    <tr>\n",
       "      <th>b</th>\n",
       "      <td>Dima</td>\n",
       "      <td>9.0</td>\n",
       "      <td>3</td>\n",
       "      <td>no</td>\n",
       "    </tr>\n",
       "    <tr>\n",
       "      <th>d</th>\n",
       "      <td>James</td>\n",
       "      <td>NaN</td>\n",
       "      <td>3</td>\n",
       "      <td>no</td>\n",
       "    </tr>\n",
       "    <tr>\n",
       "      <th>f</th>\n",
       "      <td>Michael</td>\n",
       "      <td>20.0</td>\n",
       "      <td>3</td>\n",
       "      <td>yes</td>\n",
       "    </tr>\n",
       "  </tbody>\n",
       "</table>\n",
       "</div>"
      ],
      "text/plain": [
       "      name  score  attempts qualify\n",
       "b     Dima    9.0         3      no\n",
       "d    James    NaN         3      no\n",
       "f  Michael   20.0         3     yes"
      ]
     },
     "execution_count": 13,
     "metadata": {},
     "output_type": "execute_result"
    }
   ],
   "source": [
    "import pandas as pd\n",
    "import numpy as np\n",
    "\n",
    "exam_data = {'name': ['Anastasia', 'Dima', 'Katherine', 'James', 'Emily', 'Michael', 'Matthew', 'Laura', 'Kevin', 'Jonas'],\n",
    "'score': [12.5, 9, 16.5, np.nan, 9, 20, 14.5, np.nan, 8, 19],\n",
    "'attempts': [1, 3, 2, 3, 2, 3, 1, 1, 2, 1],\n",
    "'qualify': ['yes', 'no', 'yes', 'no', 'no', 'yes', 'yes', 'no', 'no', 'yes']}\n",
    "labels = ['a', 'b', 'c', 'd', 'e', 'f', 'g', 'h', 'i', 'j']\n",
    "\n",
    "datafr = pd.DataFrame(data=exam_data, index=labels)\n",
    "\n",
    "# Adding a column for sorting\n",
    "datafr[\"morethan3\"] = datafr[\"attempts\"] > 2\n",
    "\n",
    "# Iteration\n",
    "for x in datafr.index:\n",
    "    if not datafr.loc[x, 'morethan3']:\n",
    "        datafr.drop(x, inplace=True)\n",
    "\n",
    "# Final touch\n",
    "datafr.drop(columns=\"morethan3\", inplace=True)\n",
    "datafr"
   ]
  }
 ],
 "metadata": {
  "kernelspec": {
   "display_name": "Python 3 (ipykernel)",
   "language": "python",
   "name": "python3"
  },
  "language_info": {
   "codemirror_mode": {
    "name": "ipython",
    "version": 3
   },
   "file_extension": ".py",
   "mimetype": "text/x-python",
   "name": "python",
   "nbconvert_exporter": "python",
   "pygments_lexer": "ipython3",
   "version": "3.11.5"
  }
 },
 "nbformat": 4,
 "nbformat_minor": 5
}
